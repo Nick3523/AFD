{
 "cells": [
  {
   "cell_type": "markdown",
   "metadata": {},
   "source": [
    "# Python 3.6 et Numpy in 20 minutes\n",
    "yann chevaleyre"
   ]
  },
  {
   "cell_type": "markdown",
   "metadata": {},
   "source": [
    "## Python en 5 minutes"
   ]
  },
  {
   "cell_type": "markdown",
   "metadata": {},
   "source": [
    "Contrairement au langages C,C++ et Java, il n'y a pas d'accolade ouvrante ou fermante en python pour les blocs if,while,etc...\n",
    "En python, le symbole ':' signale qu'on rentre dans un nouveau bloc d'instruction. Ce bloc doit etre indente par une tabulation ou par 4 espaces."
   ]
  },
  {
   "cell_type": "code",
   "execution_count": 1,
   "metadata": {
    "collapsed": false
   },
   "outputs": [
    {
     "name": "stdout",
     "output_type": "stream",
     "text": [
      "\n",
      " Premier code\n",
      "iteration  0\n",
      "iteration  1\n",
      "iteration  2\n",
      "iteration  3\n",
      "\n",
      " Deuxieme code\n",
      "iteration  0\n",
      "iteration  1\n",
      "iteration  2\n",
      "iteration  3\n",
      "\n",
      " Troisieme code\n",
      "iteration  0\n",
      "iteration  1\n",
      "iteration  2\n",
      "iteration  3\n"
     ]
    }
   ],
   "source": [
    "# Ces trois codes font exactement la meme chose\n",
    "\n",
    "print('\\n Premier code')\n",
    "\n",
    "x = 0\n",
    "while x < 4:\n",
    "    print ('iteration ',x)\n",
    "    x += 1\n",
    "\n",
    "\n",
    "print('\\n Deuxieme code')\n",
    "\n",
    "for x in range(4):\n",
    "    print ('iteration ',x)\n",
    "\n",
    "\n",
    "print('\\n Troisieme code')\n",
    "\n",
    "def foo(x):\n",
    "    while True:\n",
    "        if x >= 4:\n",
    "            break\n",
    "        else:\n",
    "            print ('iteration ',x)\n",
    "            x = x + 1\n",
    "foo(0)"
   ]
  },
  {
   "cell_type": "code",
   "execution_count": 13,
   "metadata": {
    "collapsed": false
   },
   "outputs": [
    {
     "data": {
      "text/plain": [
       "15"
      ]
     },
     "execution_count": 13,
     "metadata": {},
     "output_type": "execute_result"
    }
   ],
   "source": [
    "# Exercice !\n",
    "# Ecrire une fonction renvoie la somme des nombres de 1 a x\n",
    "\n",
    "def sum(x) :\n",
    "    tmp = x\n",
    "    res = 0\n",
    "    while (tmp >= 0) :\n",
    "        res += tmp\n",
    "        tmp = tmp - 1\n",
    "    return res\n",
    "\n",
    "def lazysum(x):\n",
    "    x =(x*(x+1))/2\n",
    "    return x\n",
    "    \n",
    "lazysum(5)\n",
    "sum(5)"
   ]
  },
  {
   "cell_type": "code",
   "execution_count": 14,
   "metadata": {
    "collapsed": false
   },
   "outputs": [
    {
     "name": "stdout",
     "output_type": "stream",
     "text": [
      "['A', 'B', 'C', 10, 15, 20]\n",
      "A ; 15\n"
     ]
    }
   ],
   "source": [
    "# En python, on manipule beaucoup des listes.\n",
    "# Dans les listes, on met ce qu'on veut (des chaines de caracteres, des nombres)\n",
    "L = ['A','B','C']\n",
    "N = [10,15,20]\n",
    "print(L+N)\n",
    "print(L[0],\";\",N[1])"
   ]
  },
  {
   "cell_type": "code",
   "execution_count": 15,
   "metadata": {
    "collapsed": false
   },
   "outputs": [
    {
     "name": "stdout",
     "output_type": "stream",
     "text": [
      "Parmi A,B ou C, je choisis aleatoirement  C\n",
      "racine de deux egal  1.4142135623730951\n",
      "cosinus de pi egal -1.0\n"
     ]
    }
   ],
   "source": [
    "# En python, enormement de choses se trouvent dans les modules externes\n",
    "# on les appelle avec import est on leur donne un nom raccourci\n",
    "\n",
    "import random\n",
    "R = random.choice(['A','B','C'])\n",
    "print('Parmi A,B ou C, je choisis aleatoirement ',R)\n",
    "\n",
    "import math as m\n",
    "print ('racine de deux egal ',m.sqrt(2))\n",
    "print ('cosinus de pi egal',m.cos( m.pi ))"
   ]
  },
  {
   "cell_type": "code",
   "execution_count": null,
   "metadata": {
    "collapsed": true
   },
   "outputs": [],
   "source": [
    "# Je peux aussi definir des fonctions avec def\n",
    "# ici je definis normeVec qui calcule la norme d'un vecteur\n",
    "def normeVec(x,y):\n",
    "    return m.sqrt(x*x+y*y)\n",
    "\n",
    "print ('norme du vecteur (10,20) = ',normeVec(10,20))"
   ]
  },
  {
   "cell_type": "markdown",
   "metadata": {},
   "source": [
    "## Numpy en 10 minutes\n",
    "Numpy est le module python qui permet de manipuler des matrices (entres autres). Ca ressemble beaucoup a Matlab"
   ]
  },
  {
   "cell_type": "code",
   "execution_count": 16,
   "metadata": {
    "collapsed": false
   },
   "outputs": [
    {
     "name": "stdout",
     "output_type": "stream",
     "text": [
      " voila la matrice x :\n",
      "[[ 1  2  3]\n",
      " [10 20 30]]\n",
      "\n",
      " voila la matrice w :\n",
      "[[ 0.  0.  0.  0.]\n",
      " [ 0.  0.  0.  0.]\n",
      " [ 0.  0.  0.  0.]]\n",
      "\n",
      " voila la matrice v :\n",
      "[[ 1.  1.  1.  1.  1.  1.  1.  1.  1.  1.]]\n",
      "\n",
      " voila la matrice identite :\n",
      "[[ 1.  0.  0.]\n",
      " [ 0.  1.  0.]\n",
      " [ 0.  0.  1.]]\n"
     ]
    }
   ],
   "source": [
    "# Le module qui permet de manipuler des matrices s'appelle numpy, mais on abbregera par np\n",
    "\n",
    "import numpy as np\n",
    "\n",
    "x = np.array( [ [1,2,3] , [10,20,30] ] )\n",
    "print (' voila la matrice x :')\n",
    "print (x)\n",
    "\n",
    "w = np.zeros( (3,4) )\n",
    "print ('\\n voila la matrice w :')\n",
    "print (w)\n",
    "\n",
    "v = np.ones( (1,10) )\n",
    "print ('\\n voila la matrice v :')\n",
    "print (v)\n",
    "\n",
    "identite = np.eye( 3 )\n",
    "print ('\\n voila la matrice identite :')\n",
    "print (identite)\n",
    "\n"
   ]
  },
  {
   "cell_type": "code",
   "execution_count": 17,
   "metadata": {
    "collapsed": false
   },
   "outputs": [
    {
     "name": "stdout",
     "output_type": "stream",
     "text": [
      " dimension de la matrice avant transposition  (2, 3)\n",
      "\n",
      " voici la matrice transposee:\n",
      "[[ 1 10]\n",
      " [ 2 20]\n",
      " [ 3 30]]\n",
      "\n",
      " et ses nouvelles dimensions:  (3, 2)\n",
      " elle a donc  3  lignes et  2  colonnes\n"
     ]
    }
   ],
   "source": [
    "# on peut obtenir la dimension d'une matrice x avec x.shape,\n",
    "# on peut transposer une matrice x avec x.T\n",
    "\n",
    "print (' dimension de la matrice avant transposition ',x.shape)\n",
    "\n",
    "print ('\\n voici la matrice transposee:')\n",
    "x = x.T\n",
    "print (x)\n",
    "\n",
    "print ('\\n et ses nouvelles dimensions: ',x.shape)\n",
    "print (' elle a donc ',x.shape[0],' lignes et ',x.shape[1],' colonnes')"
   ]
  },
  {
   "cell_type": "code",
   "execution_count": null,
   "metadata": {
    "collapsed": true
   },
   "outputs": [],
   "source": [
    "# On peut extraire des morceaux d'une matrice x avec x[i1:i2,j1:j2]\n",
    "# ca prend les lignes de i1 a i2-1, et j1 a j2-1\n",
    "# lignes et colonnes sont numerotes a partir de zero\n",
    "\n",
    "print (' extraction des lignes de 0 a 1 et colonnes de 0 a 1')\n",
    "print (x[0:2,0:2])\n",
    "\n",
    "print ('\\n extraction de toutes les lignes de x, mais juste la seconde colonne')\n",
    "z = x[:,1:2]\n",
    "print (z)\n",
    "\n",
    "print ('\\n extraction de la premier ligne de x avec toutes les colonnes')\n",
    "z2 = x[0,:]\n",
    "print (z2)"
   ]
  },
  {
   "cell_type": "code",
   "execution_count": null,
   "metadata": {
    "collapsed": true
   },
   "outputs": [],
   "source": [
    "print('acceder aux valeurs des cases de la matrice une par une')\n",
    "x[0,0] = 1000\n",
    "print (x)"
   ]
  },
  {
   "cell_type": "code",
   "execution_count": null,
   "metadata": {
    "collapsed": true
   },
   "outputs": [],
   "source": [
    "print('parcourir un tableau numpy en deux dimensions, avec double boucle for')\n",
    "for i in range(len(x)):\n",
    "    for j in range(len(x[0])):\n",
    "        e = x[i,j]\n",
    "        print(\"l'element a la ligne\",i,\"et la colonne\",j,\"est\",e)\n",
    "\n",
    "print('\\nparcourir un tableau numpy en deux dimensions, avec une seule boucle for')\n",
    "for (i,j),e in np.ndenumerate(x):\n",
    "        print(\"l'element a la ligne\",i,\"et la colonne\",j,\"est\",e)"
   ]
  },
  {
   "cell_type": "code",
   "execution_count": 33,
   "metadata": {
    "collapsed": false
   },
   "outputs": [
    {
     "name": "stdout",
     "output_type": "stream",
     "text": [
      "[[ 0.  0.  0.  0.  0.]\n",
      " [ 0.  1.  1.  1.  1.]\n",
      " [ 0.  1.  2.  2.  2.]\n",
      " [ 0.  1.  2.  3.  3.]\n",
      " [ 0.  1.  2.  3.  4.]]\n"
     ]
    }
   ],
   "source": [
    "# Exercice !\n",
    "# Ecrire une fonction qui cree une matrice 5x5 initialement remplie de zeros.\n",
    "# Puis, pour i=1..5 et j=1..5, placer dans la case i,j de cette matrice la valeur min(i,j)\n",
    "\n",
    "zero = np.zeros( (5,5) )\n",
    "for i in range(len(zero)):\n",
    "    for j in range(len(zero)):\n",
    "        zero[i,j] = min(i,j)\n",
    "  \n",
    "#v2 \n",
    "\n",
    "for (i,j),e in np.ndenumerate(x):\n",
    "    zero[i,j] = min(i,j)\n",
    "        \n",
    "print(zero)"
   ]
  },
  {
   "cell_type": "code",
   "execution_count": 32,
   "metadata": {
    "collapsed": false
   },
   "outputs": [
    {
     "name": "stdout",
     "output_type": "stream",
     "text": [
      " v est une matrice ligne \n",
      "[[10 20 30]]\n",
      "\n",
      " sa transposee est une matrice colonne \n",
      "[[10]\n",
      " [20]\n",
      " [30]]\n",
      "\n",
      " le resultat de v * v.T est une matrice 1x1, et s'ecrit de deux facons equivalentes\n",
      "[[1400]]\n",
      " ou en utilisant le symbole de multiplication matriciel \"@\"\n",
      "[[1400]]\n",
      "\n",
      " on peut extraire le nombre en convertissant un reel\n",
      "1400.0\n",
      "\n",
      " le resultat de v.T * v est une matrice 3x3\n",
      "[[100 200 300]\n",
      " [200 400 600]\n",
      " [300 600 900]]\n"
     ]
    }
   ],
   "source": [
    "# multiplications et produits scalaires\n",
    "\n",
    "v = np.array( [ [10,20,30] ])\n",
    "\n",
    "print (' v est une matrice ligne ')\n",
    "print (v)\n",
    "\n",
    "print ('\\n sa transposee est une matrice colonne ')\n",
    "print (v.T)\n",
    "\n",
    "print (\"\\n le resultat de v * v.T est une matrice 1x1, et s'ecrit de deux facons equivalentes\")\n",
    "print (np.dot( v , v.T))\n",
    "print (' ou en utilisant le symbole de multiplication matriciel \"@\"')\n",
    "print ( v @ v.T)\n",
    "\n",
    "print ('\\n on peut extraire le nombre en convertissant un reel')\n",
    "print (float( v @ v.T ))\n",
    "\n",
    "print ('\\n le resultat de v.T * v est une matrice 3x3')\n",
    "print ( v.T @ v)\n"
   ]
  },
  {
   "cell_type": "code",
   "execution_count": null,
   "metadata": {
    "collapsed": true
   },
   "outputs": [],
   "source": [
    "#  on peut faire plein de choses sur des matrices\n",
    "\n",
    "print ('\\n on peut multiplier v par un nombre:')\n",
    "print (v*1000)\n",
    "\n",
    "print ('\\n appliquer une operation sur chaque element (elever au carre, calculer la racine carre, le log) de v')\n",
    "print (v**2)\n",
    "print (np.sqrt(v))\n",
    "print (np.log(v))\n",
    "\n",
    "print ('\\n ajouter v a v')\n",
    "print (v+v)\n",
    "\n",
    "print ('\\n contatener horizontalement et verticalement v a lui-meme')\n",
    "print (np.hstack( (v,v) ))\n",
    "print (np.vstack( (v,v) ))\n",
    "\n",
    "print ('\\n faire la somme en lignes de la matrice x:')\n",
    "print (x)\n",
    "print (' somme sur les ligne = ',np.sum(x,axis=0))\n",
    "print (' somme sur les colonne = \\n',np.sum(x,axis=1))\n",
    "\n",
    "print ('\\n generer des matrices aleatoires')\n",
    "al = np.random.uniform(size=(2,4))\n",
    "# Attention: np.random.uniform peut generer des tableaux 1D, 2D, 3D... mais pas de matrices.\n",
    "# Donc ici, np.random.uniform genere un tableau 2D qu'on converti explicitement en matrice avec np.matrix(...)\n",
    "print (al)"
   ]
  },
  {
   "cell_type": "code",
   "execution_count": 77,
   "metadata": {
    "collapsed": false
   },
   "outputs": [
    {
     "name": "stdout",
     "output_type": "stream",
     "text": [
      "[[ 1 10]\n",
      " [ 1 20]\n",
      " [ 1 30]]\n"
     ]
    }
   ],
   "source": [
    "# Exercice !\n",
    "# Reprenez la matrice de l'exercice precedent\n",
    "# Rajoutez une colonne de 1 a cette matrice.\n",
    "\n",
    "\n",
    "\n",
    "v = v.T\n",
    "vv = np.array( [ [1,1,1] ]).T\n",
    "\n",
    "print (np.hstack( (vv,v) ))\n",
    "\n",
    "\n"
   ]
  },
  {
   "cell_type": "code",
   "execution_count": 74,
   "metadata": {
    "collapsed": true
   },
   "outputs": [],
   "source": [
    "# Exercice !\n",
    "# Centrez cette matrice, c'est a dire soustrayez a chaque colonne la moyenne de cette colonne.\n",
    "# Pour cela, il faudra entre autres utiliser la fonction np.mean\n",
    "# pour acceder a l'aide de cette fonction, tapez help(np.mean) ou np.mean?"
   ]
  },
  {
   "cell_type": "code",
   "execution_count": 72,
   "metadata": {
    "collapsed": false
   },
   "outputs": [
    {
     "name": "stdout",
     "output_type": "stream",
     "text": [
      "changer la forme d'un tableau ou d'une matrice\n",
      "[1 2 3 4 5 6]\n",
      "[[1 2 3 4 5 6]]\n",
      "[[1]\n",
      " [2]\n",
      " [3]\n",
      " [4]\n",
      " [5]\n",
      " [6]]\n",
      "[[1 2 3]\n",
      " [4 5 6]]\n"
     ]
    }
   ],
   "source": [
    "print(\"changer la forme d'un tableau ou d'une matrice\")\n",
    "X = np.array([1,2,3,4,5,6])  # X est un tableau 1D\n",
    "print(X)\n",
    "X = X.reshape(1,6)           # X est maintenant un tableau 2D\n",
    "print(X)\n",
    "X = X.reshape(6,1)\n",
    "print(X)\n",
    "X = X.reshape(2,3)\n",
    "print(X)"
   ]
  },
  {
   "cell_type": "markdown",
   "metadata": {},
   "source": [
    "## Matplotlib\n",
    "matplotlib est le module qui permet d'afficher des graphiques. Lui aussi s'utilise presque comme Matlab"
   ]
  },
  {
   "cell_type": "code",
   "execution_count": null,
   "metadata": {
    "collapsed": true
   },
   "outputs": [],
   "source": [
    "%matplotlib inline\n",
    "import matplotlib.pyplot as plt"
   ]
  },
  {
   "cell_type": "code",
   "execution_count": null,
   "metadata": {
    "collapsed": true
   },
   "outputs": [],
   "source": [
    "v = np.array([[1,3,2,4,3,5,4,6]])\n",
    "plt.plot(v.T)  # Attention, plt.plot requiert des matrices colonnes. il faut donc transposer v\n",
    "plt.show()     # affiche le graphique"
   ]
  },
  {
   "cell_type": "code",
   "execution_count": null,
   "metadata": {
    "collapsed": true
   },
   "outputs": [],
   "source": [
    "# Afficher des points connaissant leurs coordonnes\n",
    "x = np.array([[10,20,15,33]])\n",
    "y = np.array([[1,2,3,6]])\n",
    "plt.scatter(x.T,y.T)\n",
    "plt.show()"
   ]
  },
  {
   "cell_type": "markdown",
   "metadata": {},
   "source": [
    "## Charger les données Iris"
   ]
  },
  {
   "cell_type": "code",
   "execution_count": null,
   "metadata": {
    "collapsed": true
   },
   "outputs": [],
   "source": [
    "from sklearn.datasets import load_iris\n",
    "X , y = load_iris().data, load_iris().target\n",
    "\n",
    "print(X[:4],'\\n\\n',y[:4])"
   ]
  },
  {
   "cell_type": "code",
   "execution_count": null,
   "metadata": {
    "collapsed": true
   },
   "outputs": [],
   "source": [
    "# Exercice !\n",
    "# Affichez graphiquement avec plt.scatter les deux premieres colonnes du jeu de donnees iris"
   ]
  },
  {
   "cell_type": "markdown",
   "metadata": {},
   "source": [
    "## Comparaisons sur des tableaux numpy\n",
    "\n",
    "On peut faire des comparaisons entre tableaux et nombres de la facon suivante"
   ]
  },
  {
   "cell_type": "code",
   "execution_count": null,
   "metadata": {
    "collapsed": true
   },
   "outputs": [],
   "source": [
    "X = np.arange(25)\n",
    "X"
   ]
  },
  {
   "cell_type": "code",
   "execution_count": null,
   "metadata": {
    "collapsed": true
   },
   "outputs": [],
   "source": [
    "Y = X > 10\n",
    "Y"
   ]
  },
  {
   "cell_type": "code",
   "execution_count": null,
   "metadata": {
    "collapsed": true
   },
   "outputs": [],
   "source": [
    "# on peut convertir le tableau de booleens en tableau d'entiers\n",
    "Z = Y.astype(int)\n",
    "Z"
   ]
  },
  {
   "cell_type": "code",
   "execution_count": 39,
   "metadata": {
    "collapsed": true
   },
   "outputs": [],
   "source": [
    "# Exercice !\n",
    "# créez un matrice X de nombres réels aléatoires tirés uniformément entre 0 et 1,\n",
    "# et creez une matrice Y ne contenant que des -1 et des 1 de la facon suivante:\n",
    "# si X[i,j] > 0.5 alors la case Y[i,j] devra prendre la valeur 1, et -1 sinon.\n",
    "# bien sur, n'utilisez pas de boucle for dans cet exercice"
   ]
  }
 ],
 "metadata": {
  "anaconda-cloud": {},
  "kernelspec": {
   "display_name": "Python 3",
   "language": "python",
   "name": "python3"
  },
  "language_info": {
   "codemirror_mode": {
    "name": "ipython",
    "version": 3
   },
   "file_extension": ".py",
   "mimetype": "text/x-python",
   "name": "python",
   "nbconvert_exporter": "python",
   "pygments_lexer": "ipython3",
   "version": "3.6.0"
  }
 },
 "nbformat": 4,
 "nbformat_minor": 1
}
